{
 "cells": [
  {
   "cell_type": "code",
   "execution_count": 5,
   "metadata": {},
   "outputs": [
    {
     "ename": "SyntaxError",
     "evalue": "invalid syntax (<ipython-input-5-15d94385ca4f>, line 9)",
     "output_type": "error",
     "traceback": [
      "\u001b[1;36m  File \u001b[1;32m\"<ipython-input-5-15d94385ca4f>\"\u001b[1;36m, line \u001b[1;32m9\u001b[0m\n\u001b[1;33m    elif(umur < 4)\u001b[0m\n\u001b[1;37m                  ^\u001b[0m\n\u001b[1;31mSyntaxError\u001b[0m\u001b[1;31m:\u001b[0m invalid syntax\n"
     ]
    }
   ],
   "source": [
    "umur = int(input(\"masukan umur anak (tahun): \"))\n",
    "tinggi = int(input(\"masukan tinggi anak (cm): \"))\n",
    "harga = 0\n",
    "next_harga = \"harga untuk anak dengan umur {} tahun dan tinggi {} cm adalah {}\"\n",
    "\n",
    "if(umur <2):\n",
    "    print(\"dilarang masuk\")\n",
    "    \n",
    "elif(umur < 4)\n",
    "    harga = 30000\n",
    "    if(tinggi >70):\n",
    "        harga += 10000\n",
    "    print(text_harga.format(umur, tinggi, harga))\n",
    "    \n",
    "elif(umur < 7):\n",
    "    harga = 40000\n",
    "    if(tinggi >120):\n",
    "        harga +=15000\n",
    "    print(text_harga.format(umur, tinggal, harga))\n",
    "    \n",
    "elif(umur <10):\n",
    "    harga = 40000\n",
    "    if(tinggi >150):\n",
    "        harga += 20000 \n",
    "    print(text_harga.format(umur, tinggal, harga))\n",
    "    \n",
    "else:\n",
    "    harga = 80000\n",
    "    print(next_harga.format(umur, tinggal, harga))"
   ]
  },
  {
   "cell_type": "code",
   "execution_count": null,
   "metadata": {},
   "outputs": [],
   "source": []
  },
  {
   "cell_type": "code",
   "execution_count": null,
   "metadata": {},
   "outputs": [],
   "source": []
  }
 ],
 "metadata": {
  "kernelspec": {
   "display_name": "Python 3",
   "language": "python",
   "name": "python3"
  },
  "language_info": {
   "codemirror_mode": {
    "name": "ipython",
    "version": 3
   },
   "file_extension": ".py",
   "mimetype": "text/x-python",
   "name": "python",
   "nbconvert_exporter": "python",
   "pygments_lexer": "ipython3",
   "version": "3.8.5"
  }
 },
 "nbformat": 4,
 "nbformat_minor": 4
}
